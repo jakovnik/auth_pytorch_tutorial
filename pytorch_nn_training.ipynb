{
 "cells": [
  {
   "cell_type": "markdown",
   "id": "4158e189",
   "metadata": {},
   "source": [
    "# Notebook 1.3 - PyTorch linear model\n",
    "\n",
    "The purpose of this notebook is:\n",
    "- To understand training procedure in pytorch\n",
    "    - optimizer\n",
    "    - loss function\n",
    "    - backward procedure\n",
    "    \n",
    "## Required packages"
   ]
  },
  {
   "cell_type": "code",
   "execution_count": null,
   "id": "5bc599a1",
   "metadata": {},
   "outputs": [],
   "source": [
    "! pip install torch torchvision torchaudio --index-url https://download.pytorch.org/whl/cu118\n",
    "! pip instal matplotlib"
   ]
  },
  {
   "cell_type": "code",
   "execution_count": 1,
   "id": "0c5b2d47",
   "metadata": {},
   "outputs": [
    {
     "data": {
      "text/plain": [
       "<torch._C.Generator at 0x2bbbd0ec2b0>"
      ]
     },
     "execution_count": 1,
     "metadata": {},
     "output_type": "execute_result"
    }
   ],
   "source": [
    "import torch\n",
    "import matplotlib.pyplot as plt"
   ]
  },
  {
   "cell_type": "markdown",
   "id": "fec46449",
   "metadata": {},
   "source": [
    "Crate linear model\n",
    "$y = w \\cdot x + b$"
   ]
  },
  {
   "cell_type": "code",
   "execution_count": 2,
   "id": "e8d2ee06",
   "metadata": {},
   "outputs": [
    {
     "data": {
      "text/plain": [
       "tensor([1.2123], grad_fn=<AddBackward0>)"
      ]
     },
     "execution_count": 2,
     "metadata": {},
     "output_type": "execute_result"
    }
   ],
   "source": [
    "x = torch.tensor([0.5])\n",
    "# create linear model\n",
    "torch.manual_seed(42)\n",
    "lin_model = torch.nn.Linear(1,1)\n",
    "lin_model(x)"
   ]
  },
  {
   "cell_type": "code",
   "execution_count": 3,
   "id": "3b96fbb6",
   "metadata": {},
   "outputs": [
    {
     "name": "stdout",
     "output_type": "stream",
     "text": [
      "weight = Parameter containing:\n",
      "tensor([[0.7645]], requires_grad=True)\n",
      "bias = Parameter containing:\n",
      "tensor([0.8300], requires_grad=True)\n"
     ]
    },
    {
     "data": {
      "text/plain": [
       "tensor([1.2123], grad_fn=<AddBackward0>)"
      ]
     },
     "execution_count": 3,
     "metadata": {},
     "output_type": "execute_result"
    }
   ],
   "source": [
    "print(\"weight = {}\".format(lin_model.weight))\n",
    "print(\"bias = {}\".format(lin_model.bias))\n",
    "torch.matmul(lin_model.weight, x) + lin_model.bias"
   ]
  },
  {
   "cell_type": "markdown",
   "id": "bfaed968",
   "metadata": {},
   "source": [
    "## Generate artifical data\n",
    "We assumed linear relation between input $x$ and output $y$."
   ]
  },
  {
   "cell_type": "code",
   "execution_count": 4,
   "id": "ca9d1f7c",
   "metadata": {},
   "outputs": [
    {
     "data": {
      "image/png": "[encoded data removed]",
      "text/plain": [
       "<Figure size 432x288 with 1 Axes>"
      ]
     },
     "metadata": {
      "needs_background": "light"
     },
     "output_type": "display_data"
    }
   ],
   "source": [
    "N = 50\n",
    "xc = torch.rand(N,1) * 43 - 10\n",
    "xf = 9/5 * xc + 32 + torch.randn(N,1)\n",
    "plt.scatter(xc.numpy(),xf.numpy())\n",
    "plt.xlabel(\"xc\")\n",
    "plt.ylabel(\"xf\")\n",
    "plt.show()"
   ]
  },
  {
   "cell_type": "markdown",
   "id": "fc4ad7e4",
   "metadata": {},
   "source": [
    "## Start simple training\n",
    "\n",
    "Initial values of model parameters"
   ]
  },
  {
   "cell_type": "code",
   "execution_count": 5,
   "id": "1821db84",
   "metadata": {},
   "outputs": [
    {
     "name": "stdout",
     "output_type": "stream",
     "text": [
      "<generator object Module.parameters at 0x000002BBD4EA9AC0>\n"
     ]
    },
    {
     "data": {
      "text/plain": [
       "[Parameter containing:\n",
       " tensor([[0.7645]], requires_grad=True),\n",
       " Parameter containing:\n",
       " tensor([0.8300], requires_grad=True)]"
      ]
     },
     "execution_count": 5,
     "metadata": {},
     "output_type": "execute_result"
    }
   ],
   "source": [
    "print(lin_model.parameters())\n",
    "list(lin_model.parameters())"
   ]
  },
  {
   "cell_type": "markdown",
   "id": "19983b10",
   "metadata": {},
   "source": [
    "Define optimizer"
   ]
  },
  {
   "cell_type": "code",
   "execution_count": 6,
   "id": "356d3463",
   "metadata": {},
   "outputs": [],
   "source": [
    "optimizer = torch.optim.SGD(lin_model.parameters(), lr=1e-3)"
   ]
  },
  {
   "cell_type": "markdown",
   "id": "7cca80f6",
   "metadata": {},
   "source": [
    "Define loss function"
   ]
  },
  {
   "cell_type": "code",
   "execution_count": 15,
   "id": "732972bc",
   "metadata": {},
   "outputs": [],
   "source": [
    "def loss_fnc(y_p, y_t): \n",
    "    squared_error= (y_p - y_t)**2 \n",
    "    return squared_error.mean()"
   ]
  },
  {
   "cell_type": "markdown",
   "id": "927b1cdc",
   "metadata": {},
   "source": [
    "Define training procedure"
   ]
  },
  {
   "cell_type": "code",
   "execution_count": 8,
   "id": "9ca31015",
   "metadata": {},
   "outputs": [],
   "source": [
    "def training(n_epochs, optimizer, model, loss_fnc, x, y_t):\n",
    "    for epoch in range(1, n_epochs+1):\n",
    "        y_p = model(x)\n",
    "        loss = loss_fnc(y_p, y_t)\n",
    "        optimizer.zero_grad()\n",
    "        loss.backward()\n",
    "        optimizer.step()\n",
    "        if epoch <= 3 or epoch % 100 == 0:\n",
    "            print(\"Epoch {}, training loss {}\".format(epoch,loss.item()))"
   ]
  },
  {
   "cell_type": "code",
   "execution_count": 9,
   "id": "5db4bc48",
   "metadata": {},
   "outputs": [
    {
     "name": "stdout",
     "output_type": "stream",
     "text": [
      "Epoch 1, training loss 2147.715087890625\n",
      "Epoch 2, training loss 687.3211059570312\n",
      "Epoch 3, training loss 477.2061462402344\n",
      "Epoch 100, training loss 369.9415588378906\n",
      "Epoch 200, training loss 307.8321228027344\n",
      "Epoch 300, training loss 256.1723937988281\n",
      "Epoch 400, training loss 213.20436096191406\n",
      "Epoch 500, training loss 177.46542358398438\n",
      "Epoch 600, training loss 147.73959350585938\n",
      "Epoch 700, training loss 123.01500701904297\n",
      "Epoch 800, training loss 102.45032501220703\n",
      "Epoch 900, training loss 85.34546661376953\n",
      "Epoch 1000, training loss 71.1185302734375\n",
      "Epoch 1100, training loss 59.28522491455078\n",
      "Epoch 1200, training loss 49.44282150268555\n",
      "Epoch 1300, training loss 41.25642395019531\n",
      "Epoch 1400, training loss 34.44733810424805\n",
      "Epoch 1500, training loss 28.783811569213867\n",
      "Epoch 1600, training loss 24.07318878173828\n",
      "Epoch 1700, training loss 20.155088424682617\n",
      "Epoch 1800, training loss 16.896242141723633\n",
      "Epoch 1900, training loss 14.185683250427246\n",
      "Epoch 2000, training loss 11.931173324584961\n",
      "Epoch 2100, training loss 10.055994987487793\n",
      "Epoch 2200, training loss 8.496302604675293\n",
      "Epoch 2300, training loss 7.1990156173706055\n",
      "Epoch 2400, training loss 6.119987964630127\n",
      "Epoch 2500, training loss 5.222489833831787\n",
      "Epoch 2600, training loss 4.476004123687744\n",
      "Epoch 2700, training loss 3.8551111221313477\n",
      "Epoch 2800, training loss 3.3386850357055664\n",
      "Epoch 2900, training loss 2.90910267829895\n",
      "Epoch 3000, training loss 2.5518362522125244\n",
      "Epoch 3100, training loss 2.2546803951263428\n",
      "Epoch 3200, training loss 2.0075228214263916\n",
      "Epoch 3300, training loss 1.8019369840621948\n",
      "Epoch 3400, training loss 1.6309491395950317\n",
      "Epoch 3500, training loss 1.4887272119522095\n",
      "Epoch 3600, training loss 1.3704348802566528\n",
      "Epoch 3700, training loss 1.2720437049865723\n",
      "Epoch 3800, training loss 1.1902107000350952\n",
      "Epoch 3900, training loss 1.1221458911895752\n",
      "Epoch 4000, training loss 1.0655319690704346\n",
      "Epoch 4100, training loss 1.0184457302093506\n",
      "Epoch 4200, training loss 0.9792790412902832\n",
      "Epoch 4300, training loss 0.9467003345489502\n",
      "Epoch 4400, training loss 0.9196068048477173\n",
      "Epoch 4500, training loss 0.8970709443092346\n",
      "Epoch 4600, training loss 0.8783233761787415\n",
      "Epoch 4700, training loss 0.8627335429191589\n",
      "Epoch 4800, training loss 0.8497655391693115\n",
      "Epoch 4900, training loss 0.8389778733253479\n",
      "Epoch 5000, training loss 0.8300074934959412\n",
      "Epoch 5100, training loss 0.8225451707839966\n",
      "Epoch 5200, training loss 0.8163383603096008\n",
      "Epoch 5300, training loss 0.811177134513855\n",
      "Epoch 5400, training loss 0.8068833947181702\n",
      "Epoch 5500, training loss 0.8033109903335571\n",
      "Epoch 5600, training loss 0.8003414869308472\n",
      "Epoch 5700, training loss 0.7978708148002625\n",
      "Epoch 5800, training loss 0.795815110206604\n",
      "Epoch 5900, training loss 0.794105589389801\n",
      "Epoch 6000, training loss 0.792683482170105\n"
     ]
    }
   ],
   "source": [
    "training(6000, optimizer, lin_model, loss_fnc, xc, xf)"
   ]
  },
  {
   "cell_type": "markdown",
   "id": "3c595b7b",
   "metadata": {},
   "source": [
    "Visual inspection of model fitting"
   ]
  },
  {
   "cell_type": "code",
   "execution_count": 10,
   "id": "3acb8d37",
   "metadata": {},
   "outputs": [
    {
     "data": {
      "image/png": "[encoded data removed]",
      "text/plain": [
       "<Figure size 432x288 with 1 Axes>"
      ]
     },
     "metadata": {
      "needs_background": "light"
     },
     "output_type": "display_data"
    }
   ],
   "source": [
    "xc_sorted, _ = torch.sort(xc)\n",
    "lin_model.eval()\n",
    "y_p = lin_model(xc_sorted)\n",
    "plt.scatter(xc.numpy(), xf.numpy())\n",
    "plt.plot(xc_sorted.detach().numpy(), y_p.detach().numpy(),'r')\n",
    "plt.xlabel(\"xc\")\n",
    "plt.ylabel(\"xf\")\n",
    "plt.show()"
   ]
  },
  {
   "cell_type": "code",
   "execution_count": 11,
   "id": "71120a79",
   "metadata": {},
   "outputs": [
    {
     "data": {
      "text/plain": [
       "[Parameter containing:\n",
       " tensor([[1.8157]], requires_grad=True),\n",
       " Parameter containing:\n",
       " tensor([31.7993], requires_grad=True)]"
      ]
     },
     "execution_count": 11,
     "metadata": {},
     "output_type": "execute_result"
    }
   ],
   "source": [
    "list(lin_model.parameters())"
   ]
  },
  {
   "cell_type": "code",
   "execution_count": 27,
   "id": "87730320",
   "metadata": {},
   "outputs": [
    {
     "name": "stdout",
     "output_type": "stream",
     "text": [
      "w = 1.8, b = 32\n"
     ]
    }
   ],
   "source": [
    "print(\"w = {}, b = {}\".format(9/5,32))"
   ]
  },
  {
   "cell_type": "markdown",
   "id": "4036b31d",
   "metadata": {},
   "source": [
    "## Training with validation set"
   ]
  },
  {
   "cell_type": "code",
   "execution_count": 17,
   "id": "1bd07f24",
   "metadata": {},
   "outputs": [],
   "source": [
    "def training2(n_epochs, optimizer, model, loss_fnc, x_tr, y_t_tr, x_vl, y_t_vl):\n",
    "    for epoch in range(1, n_epochs+1):\n",
    "        y_p = model(x_tr)\n",
    "        loss = loss_fnc(y_p, y_t_tr)\n",
    "        optimizer.zero_grad()\n",
    "        loss.backward()\n",
    "        optimizer.step()\n",
    "        y_p = model(x_vl)\n",
    "        val_loss = loss_fnc(y_p, y_t_vl)\n",
    "        if epoch <= 3 or epoch % 100 == 0:\n",
    "            print(\"Epoch {}, training loss {}, validation loss {}\".format(epoch,loss.item(),val_loss.item()))"
   ]
  },
  {
   "cell_type": "markdown",
   "id": "65f76582",
   "metadata": {},
   "source": [
    "Split trainig set into training and validation (on random).\n",
    "Initial a new model and run training"
   ]
  },
  {
   "cell_type": "code",
   "execution_count": 21,
   "id": "e2dd7ec6",
   "metadata": {},
   "outputs": [
    {
     "name": "stdout",
     "output_type": "stream",
     "text": [
      "Epoch 1, training loss 2212.298583984375, validation loss 724.8092041015625\n",
      "Epoch 2, training loss 629.789794921875, validation loss 605.9923095703125\n",
      "Epoch 3, training loss 430.01446533203125, validation loss 600.3106079101562\n",
      "Epoch 100, training loss 341.3152770996094, validation loss 515.56103515625\n",
      "Epoch 200, training loss 288.8346862792969, validation loss 436.4503479003906\n",
      "Epoch 300, training loss 244.44479370117188, validation loss 369.5102233886719\n",
      "Epoch 400, training loss 206.89828491210938, validation loss 312.86651611328125\n",
      "Epoch 500, training loss 175.14027404785156, validation loss 264.93389892578125\n",
      "Epoch 600, training loss 148.27816772460938, validation loss 224.3709716796875\n",
      "Epoch 700, training loss 125.55721282958984, validation loss 190.0430908203125\n",
      "Epoch 800, training loss 106.33906555175781, validation loss 160.99063110351562\n",
      "Epoch 900, training loss 90.0837173461914, validation loss 136.4016571044922\n",
      "Epoch 1000, training loss 76.33439636230469, validation loss 115.58930969238281\n",
      "Epoch 1100, training loss 64.70465850830078, validation loss 97.97232818603516\n",
      "Epoch 1200, training loss 54.86790084838867, validation loss 83.05939483642578\n",
      "Epoch 1300, training loss 46.54765319824219, validation loss 70.43450927734375\n",
      "Epoch 1400, training loss 39.51006317138672, validation loss 59.74574661254883\n",
      "Epoch 1500, training loss 33.55741500854492, validation loss 50.695472717285156\n",
      "Epoch 1600, training loss 28.522390365600586, validation loss 43.03173828125\n",
      "Epoch 1700, training loss 24.263614654541016, validation loss 36.541629791259766\n",
      "Epoch 1800, training loss 20.66144371032715, validation loss 31.044885635375977\n",
      "Epoch 1900, training loss 17.614612579345703, validation loss 26.388891220092773\n",
      "Epoch 2000, training loss 15.037469863891602, validation loss 22.44450569152832\n",
      "Epoch 2100, training loss 12.857704162597656, validation loss 19.1026668548584\n",
      "Epoch 2200, training loss 11.013894081115723, validation loss 16.270702362060547\n",
      "Epoch 2300, training loss 9.454339981079102, validation loss 13.870549201965332\n",
      "Epoch 2400, training loss 8.135221481323242, validation loss 11.836034774780273\n",
      "Epoch 2500, training loss 7.019492149353027, validation loss 10.111166000366211\n",
      "Epoch 2600, training loss 6.075751304626465, validation loss 8.64847183227539\n",
      "Epoch 2700, training loss 5.277514934539795, validation loss 7.407876491546631\n",
      "Epoch 2800, training loss 4.602327823638916, validation loss 6.355374813079834\n",
      "Epoch 2900, training loss 4.031207084655762, validation loss 5.46220064163208\n",
      "Epoch 3000, training loss 3.548109531402588, validation loss 4.704031944274902\n",
      "Epoch 3100, training loss 3.139543056488037, validation loss 4.060382843017578\n",
      "Epoch 3200, training loss 2.7939658164978027, validation loss 3.5137202739715576\n",
      "Epoch 3300, training loss 2.501662492752075, validation loss 3.049264430999756\n",
      "Epoch 3400, training loss 2.2544162273406982, validation loss 2.6544933319091797\n",
      "Epoch 3500, training loss 2.0452921390533447, validation loss 2.3188436031341553\n",
      "Epoch 3600, training loss 1.8684089183807373, validation loss 2.033327579498291\n",
      "Epoch 3700, training loss 1.718790054321289, validation loss 1.7903512716293335\n",
      "Epoch 3800, training loss 1.5922447443008423, validation loss 1.5834801197052002\n",
      "Epoch 3900, training loss 1.4852017164230347, validation loss 1.4072381258010864\n",
      "Epoch 4000, training loss 1.3946646451950073, validation loss 1.257019281387329\n",
      "Epoch 4100, training loss 1.3180840015411377, validation loss 1.128901720046997\n",
      "Epoch 4200, training loss 1.2533109188079834, validation loss 1.019562005996704\n",
      "Epoch 4300, training loss 1.1985193490982056, validation loss 0.9261768460273743\n",
      "Epoch 4400, training loss 1.1521748304367065, validation loss 0.8463651537895203\n",
      "Epoch 4500, training loss 1.1129753589630127, validation loss 0.7780998945236206\n",
      "Epoch 4600, training loss 1.0798237323760986, validation loss 0.7196703553199768\n",
      "Epoch 4700, training loss 1.05177903175354, validation loss 0.6696028709411621\n",
      "Epoch 4800, training loss 1.0280591249465942, validation loss 0.6266648769378662\n",
      "Epoch 4900, training loss 1.0079972743988037, validation loss 0.5898098349571228\n",
      "Epoch 5000, training loss 0.9910251498222351, validation loss 0.5581291913986206\n",
      "Epoch 5100, training loss 0.9766733050346375, validation loss 0.5308824777603149\n",
      "Epoch 5200, training loss 0.9645313024520874, validation loss 0.5074115991592407\n",
      "Epoch 5300, training loss 0.9542626142501831, validation loss 0.48717135190963745\n",
      "Epoch 5400, training loss 0.9455768465995789, validation loss 0.46969276666641235\n",
      "Epoch 5500, training loss 0.9382280111312866, validation loss 0.45458298921585083\n",
      "Epoch 5600, training loss 0.932015597820282, validation loss 0.4415014386177063\n",
      "Epoch 5700, training loss 0.9267581701278687, validation loss 0.43015843629837036\n",
      "Epoch 5800, training loss 0.9223114848136902, validation loss 0.4203093647956848\n",
      "Epoch 5900, training loss 0.9185514450073242, validation loss 0.41174325346946716\n",
      "Epoch 6000, training loss 0.9153695106506348, validation loss 0.40428122878074646\n"
     ]
    }
   ],
   "source": [
    "n_val = int(0.2 * N) \n",
    "shuffled_indices = torch.randperm(N)\n",
    "tr_ind = shuffled_indices[:-n_val] \n",
    "vl_ind = shuffled_indices[-n_val:]\n",
    "torch.manual_seed(42)\n",
    "lin_model2 = torch.nn.Linear(1,1)\n",
    "optimizer = torch.optim.SGD(lin_model2.parameters(), lr=1e-3)\n",
    "training2(6000, optimizer, lin_model2, loss_fnc, xc[tr_ind], xf[tr_ind], xc[vl_ind], xf[vl_ind])"
   ]
  },
  {
   "cell_type": "markdown",
   "id": "bdd5467e",
   "metadata": {},
   "source": [
    "Visual inspection of model fitting"
   ]
  },
  {
   "cell_type": "code",
   "execution_count": 22,
   "id": "e4b403a5",
   "metadata": {},
   "outputs": [
    {
     "data": {
      "image/png": "[encoded data removed]",
      "text/plain": [
       "<Figure size 432x288 with 1 Axes>"
      ]
     },
     "metadata": {
      "needs_background": "light"
     },
     "output_type": "display_data"
    }
   ],
   "source": [
    "xc_sorted, _ = torch.sort(xc[vl_ind])\n",
    "lin_model.eval()\n",
    "y_p = lin_model2(xc_sorted)\n",
    "plt.scatter(xc[vl_ind].numpy(), xf[vl_ind].numpy())\n",
    "plt.plot(xc_sorted.detach().numpy(), y_p.detach().numpy(),'r')\n",
    "plt.xlabel(\"xc\")\n",
    "plt.ylabel(\"xf\")\n",
    "plt.show()"
   ]
  },
  {
   "cell_type": "markdown",
   "id": "20f4a289",
   "metadata": {},
   "source": [
    "## Ensure that data would not be inclueded in gradient calculation"
   ]
  },
  {
   "cell_type": "code",
   "execution_count": 23,
   "id": "c8121ab0",
   "metadata": {},
   "outputs": [],
   "source": [
    "def training3(n_epochs, optimizer, model, loss_fnc, x_tr, y_t_tr, x_vl, y_t_vl):\n",
    "    for epoch in range(1, n_epochs+1):\n",
    "        y_p = model(x_tr)\n",
    "        loss = loss_fnc(y_p, y_t_tr)\n",
    "        optimizer.zero_grad()\n",
    "        loss.backward()\n",
    "        optimizer.step()\n",
    "        with torch.no_grad():\n",
    "            y_p = model(x_vl)\n",
    "            val_loss = loss_fnc(y_p, y_t_vl)\n",
    "            assert val_loss.requires_grad == False\n",
    "        if epoch <= 3 or epoch % 100 == 0:\n",
    "            print(\"Epoch {}, training loss {}, validation loss {}\".format(epoch,loss.item(),val_loss.item()))"
   ]
  },
  {
   "cell_type": "code",
   "execution_count": 25,
   "id": "f7b5eff0",
   "metadata": {},
   "outputs": [
    {
     "name": "stdout",
     "output_type": "stream",
     "text": [
      "Epoch 1, training loss 2212.298583984375, validation loss 724.8092041015625\n",
      "Epoch 2, training loss 629.789794921875, validation loss 605.9923095703125\n",
      "Epoch 3, training loss 430.01446533203125, validation loss 600.3106079101562\n",
      "Epoch 100, training loss 341.3152770996094, validation loss 515.56103515625\n",
      "Epoch 200, training loss 288.8346862792969, validation loss 436.4503479003906\n",
      "Epoch 300, training loss 244.44479370117188, validation loss 369.5102233886719\n",
      "Epoch 400, training loss 206.89828491210938, validation loss 312.86651611328125\n",
      "Epoch 500, training loss 175.14027404785156, validation loss 264.93389892578125\n",
      "Epoch 600, training loss 148.27816772460938, validation loss 224.3709716796875\n",
      "Epoch 700, training loss 125.55721282958984, validation loss 190.0430908203125\n",
      "Epoch 800, training loss 106.33906555175781, validation loss 160.99063110351562\n",
      "Epoch 900, training loss 90.0837173461914, validation loss 136.4016571044922\n",
      "Epoch 1000, training loss 76.33439636230469, validation loss 115.58930969238281\n",
      "Epoch 1100, training loss 64.70465850830078, validation loss 97.97232818603516\n",
      "Epoch 1200, training loss 54.86790084838867, validation loss 83.05939483642578\n",
      "Epoch 1300, training loss 46.54765319824219, validation loss 70.43450927734375\n",
      "Epoch 1400, training loss 39.51006317138672, validation loss 59.74574661254883\n",
      "Epoch 1500, training loss 33.55741500854492, validation loss 50.695472717285156\n",
      "Epoch 1600, training loss 28.522390365600586, validation loss 43.03173828125\n",
      "Epoch 1700, training loss 24.263614654541016, validation loss 36.541629791259766\n",
      "Epoch 1800, training loss 20.66144371032715, validation loss 31.044885635375977\n",
      "Epoch 1900, training loss 17.614612579345703, validation loss 26.388891220092773\n",
      "Epoch 2000, training loss 15.037469863891602, validation loss 22.44450569152832\n",
      "Epoch 2100, training loss 12.857704162597656, validation loss 19.1026668548584\n",
      "Epoch 2200, training loss 11.013894081115723, validation loss 16.270702362060547\n",
      "Epoch 2300, training loss 9.454339981079102, validation loss 13.870549201965332\n",
      "Epoch 2400, training loss 8.135221481323242, validation loss 11.836034774780273\n",
      "Epoch 2500, training loss 7.019492149353027, validation loss 10.111166000366211\n",
      "Epoch 2600, training loss 6.075751304626465, validation loss 8.64847183227539\n",
      "Epoch 2700, training loss 5.277514934539795, validation loss 7.407876491546631\n",
      "Epoch 2800, training loss 4.602327823638916, validation loss 6.355374813079834\n",
      "Epoch 2900, training loss 4.031207084655762, validation loss 5.46220064163208\n",
      "Epoch 3000, training loss 3.548109531402588, validation loss 4.704031944274902\n",
      "Epoch 3100, training loss 3.139543056488037, validation loss 4.060382843017578\n",
      "Epoch 3200, training loss 2.7939658164978027, validation loss 3.5137202739715576\n",
      "Epoch 3300, training loss 2.501662492752075, validation loss 3.049264430999756\n",
      "Epoch 3400, training loss 2.2544162273406982, validation loss 2.6544933319091797\n",
      "Epoch 3500, training loss 2.0452921390533447, validation loss 2.3188436031341553\n",
      "Epoch 3600, training loss 1.8684089183807373, validation loss 2.033327579498291\n",
      "Epoch 3700, training loss 1.718790054321289, validation loss 1.7903512716293335\n",
      "Epoch 3800, training loss 1.5922447443008423, validation loss 1.5834801197052002\n",
      "Epoch 3900, training loss 1.4852017164230347, validation loss 1.4072381258010864\n",
      "Epoch 4000, training loss 1.3946646451950073, validation loss 1.257019281387329\n",
      "Epoch 4100, training loss 1.3180840015411377, validation loss 1.128901720046997\n",
      "Epoch 4200, training loss 1.2533109188079834, validation loss 1.019562005996704\n",
      "Epoch 4300, training loss 1.1985193490982056, validation loss 0.9261768460273743\n",
      "Epoch 4400, training loss 1.1521748304367065, validation loss 0.8463651537895203\n",
      "Epoch 4500, training loss 1.1129753589630127, validation loss 0.7780998945236206\n",
      "Epoch 4600, training loss 1.0798237323760986, validation loss 0.7196703553199768\n",
      "Epoch 4700, training loss 1.05177903175354, validation loss 0.6696028709411621\n",
      "Epoch 4800, training loss 1.0280591249465942, validation loss 0.6266648769378662\n",
      "Epoch 4900, training loss 1.0079972743988037, validation loss 0.5898098349571228\n",
      "Epoch 5000, training loss 0.9910251498222351, validation loss 0.5581291913986206\n",
      "Epoch 5100, training loss 0.9766733050346375, validation loss 0.5308824777603149\n",
      "Epoch 5200, training loss 0.9645313024520874, validation loss 0.5074115991592407\n",
      "Epoch 5300, training loss 0.9542626142501831, validation loss 0.48717135190963745\n",
      "Epoch 5400, training loss 0.9455768465995789, validation loss 0.46969276666641235\n",
      "Epoch 5500, training loss 0.9382280111312866, validation loss 0.45458298921585083\n",
      "Epoch 5600, training loss 0.932015597820282, validation loss 0.4415014386177063\n",
      "Epoch 5700, training loss 0.9267581701278687, validation loss 0.43015843629837036\n",
      "Epoch 5800, training loss 0.9223114848136902, validation loss 0.4203093647956848\n",
      "Epoch 5900, training loss 0.9185514450073242, validation loss 0.41174325346946716\n",
      "Epoch 6000, training loss 0.9153695106506348, validation loss 0.40428122878074646\n"
     ]
    }
   ],
   "source": [
    "torch.manual_seed(42)\n",
    "lin_model3 = torch.nn.Linear(1,1)\n",
    "optimizer = torch.optim.SGD(lin_model3.parameters(), lr=1e-3)\n",
    "training3(6000, optimizer, lin_model3, loss_fnc, xc[tr_ind], xf[tr_ind], xc[vl_ind], xf[vl_ind])"
   ]
  },
  {
   "cell_type": "markdown",
   "id": "4029b227",
   "metadata": {},
   "source": [
    "Visual inspection of model"
   ]
  },
  {
   "cell_type": "code",
   "execution_count": 26,
   "id": "9a4c4a73",
   "metadata": {},
   "outputs": [
    {
     "data": {
      "image/png": "[encoded data removed]",
      "text/plain": [
       "<Figure size 432x288 with 1 Axes>"
      ]
     },
     "metadata": {
      "needs_background": "light"
     },
     "output_type": "display_data"
    }
   ],
   "source": [
    "xc_sorted, _ = torch.sort(xc[vl_ind])\n",
    "lin_model.eval()\n",
    "y_p = lin_model3(xc_sorted)\n",
    "plt.scatter(xc[vl_ind].numpy(), xf[vl_ind].numpy())\n",
    "plt.plot(xc_sorted.detach().numpy(), y_p.detach().numpy(),'r')\n",
    "plt.xlabel(\"xc\")\n",
    "plt.ylabel(\"xf\")\n",
    "plt.show()"
   ]
  }
 ],
 "metadata": {
  "kernelspec": {
   "display_name": "Python 3 (ipykernel)",
   "language": "python",
   "name": "python3"
  },
  "language_info": {
   "codemirror_mode": {
    "name": "ipython",
    "version": 3
   },
   "file_extension": ".py",
   "mimetype": "text/x-python",
   "name": "python",
   "nbconvert_exporter": "python",
   "pygments_lexer": "ipython3",
   "version": "3.9.7"
  }
 },
 "nbformat": 4,
 "nbformat_minor": 5
}
